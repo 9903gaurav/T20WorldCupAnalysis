{
 "cells": [
  {
   "cell_type": "code",
   "execution_count": 25,
   "metadata": {},
   "outputs": [],
   "source": [
    "url = 'https://stats.espncricinfo.com/ci/engine/records/team/match_results.html?id=14450;type=tournament'"
   ]
  },
  {
   "cell_type": "code",
   "execution_count": 26,
   "metadata": {},
   "outputs": [],
   "source": [
    "import csv\n",
    "from selenium import webdriver\n",
    "from selenium.webdriver.common.by import By\n",
    "from selenium.webdriver.support.ui import WebDriverWait\n",
    "import re"
   ]
  },
  {
   "cell_type": "code",
   "execution_count": 27,
   "metadata": {},
   "outputs": [],
   "source": [
    "# To Store All The Match Links\n",
    "match_links = []\n",
    "# To Store All The Player Links\n",
    "player_links = []"
   ]
  },
  {
   "cell_type": "code",
   "execution_count": 28,
   "metadata": {},
   "outputs": [],
   "source": [
    "driver = webdriver.Chrome()\n",
    "\n",
    "driver.get(url)\n",
    "\n",
    "wait = WebDriverWait(driver, 10)\n",
    "\n",
    "rows = driver.find_elements(By.TAG_NAME, 'tr')\n",
    "\n",
    "with open('dataset/match_summary.csv', mode='w', newline='', encoding='utf-8') as file:\n",
    "    writer = csv.writer(file)\n",
    "    for row in rows:\n",
    "        cols = row.find_elements(By.TAG_NAME, 'td')\n",
    "        if cols:\n",
    "            data = [col.text for col in cols]\n",
    "            if cols[6].find_elements(By.XPATH, \".//a\"):\n",
    "                match_links.append([cols[0].text,cols[1].text,cols[6].text,cols[6].find_element(By.XPATH, \".//a\").get_attribute(\"href\")])\n",
    "            writer.writerow(data)\n",
    "\n",
    "driver.quit()"
   ]
  },
  {
   "cell_type": "code",
   "execution_count": 30,
   "metadata": {},
   "outputs": [],
   "source": [
    "batting = [[\"match\", \"teamInnings\", \"battingPos\", \"batsmanName\", \"runs\", \"balls\", \"4s\",\t\"6s\", \"SR\",\t\"out/not_out\", \"match_id\"]]\n",
    "bowling = [[\"match\",\t\"bowlingTeam\",\t\"bowlerName\",\t\"overs\",\t\"maiden\",\t\"runs\",\t\"wickets\",\t\"economy\",\t\"0s\",\t\"4s\",\t\"6s\",\t\"wides\",\t\"noBalls\",\t\"match_id\"]]"
   ]
  },
  {
   "cell_type": "code",
   "execution_count": 31,
   "metadata": {},
   "outputs": [],
   "source": [
    "for data in match_links:\n",
    "    driver = webdriver.Chrome()\n",
    "\n",
    "    driver.get(data[3])\n",
    "\n",
    "    wait = WebDriverWait(driver, 10)\n",
    "\n",
    "    rows = driver.find_elements(By.XPATH, \".//div[contains(concat(' ', normalize-space(@class), ' '), ' ds-rounded-lg ') and contains(concat(' ', normalize-space(@class), ' '), ' ds-mt-2 ')]\")\n",
    "\n",
    "    for row in rows:\n",
    "        active_team = row.find_element(By.XPATH, \".//span[contains(concat(' ', normalize-space(@class), ' '), ' ds-text-title-xs ') and contains(concat(' ', normalize-space(@class), ' '), ' ds-font-bold ') and contains(concat(' ', normalize-space(@class), ' '), ' ds-capitalize ')]\").text\n",
    "        tables = row.find_elements(By.TAG_NAME, 'table')\n",
    "        for j, table in enumerate(tables):\n",
    "            if j < 1:\n",
    "                flag = 1\n",
    "                bat_pos = 0\n",
    "                for i,tr in enumerate(table.find_elements(By.TAG_NAME, 'tr')):\n",
    "                    if tr.text != \"\": \n",
    "                        if (i > 0):\n",
    "                            if (flag):\n",
    "                                if \"ds-text-tight-s\" in tr.get_attribute(\"class\"):\n",
    "                                    flag = 0\n",
    "                                else:\n",
    "                                    temp = []\n",
    "                                    bat_pos += 1\n",
    "                                    for k,td in enumerate(tr.find_elements(By.TAG_NAME, 'td')):\n",
    "                                        if td.find_elements(By.XPATH, \".//a\"):\n",
    "                                            player_links.append(td.find_element(By.XPATH, \".//a\").get_attribute(\"href\"))\n",
    "                                        if k == 0:\n",
    "                                            temp.append(re.sub(r'\\s*\\(.*?\\)\\s*|[†*]', '', td.text))\n",
    "                                        elif k == 1:\n",
    "                                            temp.append(\"not_out\") if td.text == \"not out\" else temp.append(\"out\")\n",
    "                                        else:\n",
    "                                            temp.append(td.text)\n",
    "                                    batting.append([data[0] + \" vs \" + data[1],active_team,bat_pos,temp[0],temp[2],temp[3],temp[5],temp[6],temp[7],temp[1],data[2]])  \n",
    "                flag = 1\n",
    "            else:\n",
    "                for i,tr in enumerate(table.find_elements(By.TAG_NAME, 'tr')):\n",
    "                    if tr.text != \"\": \n",
    "                        if (i > 0):\n",
    "                            temp = []\n",
    "                            for k,td in enumerate(tr.find_elements(By.TAG_NAME, 'td')):\n",
    "                                if td.find_elements(By.XPATH, \".//a\"):\n",
    "                                    player_links.append(td.find_element(By.XPATH, \".//a\").get_attribute(\"href\"))\n",
    "                                if k == 0:\n",
    "                                    temp.append(re.sub(r'\\s*\\(.*?\\)\\s*|[†*]', '', td.text))\n",
    "                                else:\n",
    "                                    temp.append(td.text)\n",
    "                            if active_team == data[0]: temp_active = data[1] \n",
    "                            elif active_team == data[1]: temp_active = data[0]    \n",
    "                            bowling.append([data[0] + \" vs \" + data[1],temp_active,temp[0],temp[1],temp[2],temp[3],temp[4],temp[5],temp[6],temp[7],temp[8],temp[9],temp[10],data[2]])\n",
    "    driver.quit()"
   ]
  },
  {
   "cell_type": "code",
   "execution_count": 32,
   "metadata": {},
   "outputs": [],
   "source": [
    "with open('dataset/match_batting_summary.csv', mode='w', newline='') as file:\n",
    "    writer = csv.writer(file)\n",
    "    writer.writerows(batting)\n",
    "\n",
    "with open('dataset/match_bowling_summary.csv', mode='w', newline='') as file:\n",
    "    writer = csv.writer(file)\n",
    "    writer.writerows(bowling)\n"
   ]
  },
  {
   "cell_type": "code",
   "execution_count": 33,
   "metadata": {},
   "outputs": [],
   "source": [
    "player_links = list(set(player_links))"
   ]
  },
  {
   "cell_type": "code",
   "execution_count": 42,
   "metadata": {},
   "outputs": [],
   "source": [
    "with open('dataset/players_links.csv', mode='w', newline='') as file:\n",
    "    writer = csv.writer(file)\n",
    "    writer.writerows(player_links)"
   ]
  },
  {
   "cell_type": "code",
   "execution_count": 47,
   "metadata": {},
   "outputs": [],
   "source": [
    "player_data = [[\"name\",\"team\",\"image\",\"battingStyle\",\"bowlingStyle\",\"playingRole\",\"description\"]]"
   ]
  },
  {
   "cell_type": "code",
   "execution_count": 58,
   "metadata": {},
   "outputs": [],
   "source": [
    "for link in  player_links:\n",
    "\n",
    "    driver = webdriver.Chrome()\n",
    "\n",
    "    driver.get(link)\n",
    "\n",
    "    wait = WebDriverWait(driver, 10)\n",
    "\n",
    "    name = \"\"\n",
    "    country = \"\"\n",
    "    image = \"\"\n",
    "    battingStyle = \"\"\n",
    "    bowlingStyle = \"\"\n",
    "    playingRole = \"\"\n",
    "    description = \"\"\n",
    "\n",
    "    name = driver.find_element(By.XPATH, \".//h1[contains(concat(' ', normalize-space(@class), ' '), ' ds-text-title-l ') and contains(concat(' ', normalize-space(@class), ' '), ' ds-font-bold ')]\").text\n",
    "\n",
    "    country = driver.find_element(By.XPATH, \".//span[contains(concat(' ', normalize-space(@class), ' '), ' ds-text-comfortable-s ')]\").text\n",
    "\n",
    "    if driver.find_elements(By.XPATH, \".//div[contains(concat(' ', normalize-space(@class), ' '), ' ci-player-bio-content ') ]\"):\n",
    "        for des in driver.find_elements(By.XPATH, \".//div[contains(concat(' ', normalize-space(@class), ' '), ' ci-player-bio-content ') ]\"):\n",
    "            description = des.find_element(By.TAG_NAME, 'p').text\n",
    "\n",
    "    p = driver.find_elements(By.XPATH, \".//div[contains(concat(' ', normalize-space(@class), ' '), ' ds-grid ') and contains(concat(' ', normalize-space(@class), ' '), ' lg:ds-grid-cols-3 ') and contains(concat(' ', normalize-space(@class), ' '), ' ds-grid-cols-2 ') and contains(concat(' ', normalize-space(@class), ' '), ' ds-gap-4 ') and contains(concat(' ', normalize-space(@class), ' '), ' ds-mb-8 ')]\")\n",
    "\n",
    "    for ps in p:\n",
    "        cols = ps.find_elements(By.TAG_NAME, 'div')\n",
    "        for col in cols:\n",
    "            if col.find_elements(By.XPATH, \".//p[contains(concat(' ', normalize-space(@class), ' '), ' ds-text-tight-m ') and contains(concat(' ', normalize-space(@class), ' '), ' ds-font-regular ') and contains(concat(' ', normalize-space(@class), ' '), ' ds-uppercase ') and contains(concat(' ', normalize-space(@class), ' '), ' ds-text-typo-mid3 ')]\"):\n",
    "                text = col.find_element(By.XPATH, \".//p[contains(concat(' ', normalize-space(@class), ' '), ' ds-text-tight-m ') and contains(concat(' ', normalize-space(@class), ' '), ' ds-font-regular ') and contains(concat(' ', normalize-space(@class), ' '), ' ds-uppercase ') and contains(concat(' ', normalize-space(@class), ' '), ' ds-text-typo-mid3 ')]\").text\n",
    "                content = col.find_element(By.XPATH, \".//span[contains(concat(' ', normalize-space(@class), ' '), ' ds-text-title-s ') and contains(concat(' ', normalize-space(@class), ' '), ' ds-font-bold ') and contains(concat(' ', normalize-space(@class), ' '), ' ds-text-typo ')]\").text\n",
    "                if (text == \"BATTING STYLE\"):\n",
    "                    battingStyle = content\n",
    "                elif (text == \"BOWLING STYLE\"):\n",
    "                    bowlingStyle = content\n",
    "                elif (text == \"PLAYING ROLE\"):\n",
    "                    playingRole = content\n",
    "\n",
    "\n",
    "    if driver.find_elements(By.XPATH, \".//div[contains(concat(' ', normalize-space(@class), ' '), ' ds-ml-auto ') and contains(concat(' ', normalize-space(@class), ' '), ' ds-w-48 ') and contains(concat(' ', normalize-space(@class), ' '), ' ds-h-48 ')]\"):\n",
    "        for img in driver.find_elements(By.XPATH, \".//div[contains(concat(' ', normalize-space(@class), ' '), ' ds-ml-auto ') and contains(concat(' ', normalize-space(@class), ' '), ' ds-w-48 ') and contains(concat(' ', normalize-space(@class), ' '), ' ds-h-48 ')]\"):\n",
    "            tem = tem = \"//img[@alt and contains(concat(' ', normalize-space(@alt), ' '), '{}')]\".format(name)\n",
    "            image = img.find_element(By.XPATH, tem).get_attribute(\"src\")\n",
    "\n",
    "\n",
    "    player_data.append([name, country, image, battingStyle, bowlingStyle, playingRole, description])\n",
    "\n",
    "    driver.quit()"
   ]
  },
  {
   "cell_type": "code",
   "execution_count": 61,
   "metadata": {},
   "outputs": [],
   "source": [
    "with open('dataset/players.csv', mode='w', newline='') as file:\n",
    "    writer = csv.writer(file)\n",
    "    writer.writerows(player_data)"
   ]
  }
 ],
 "metadata": {
  "kernelspec": {
   "display_name": "Python 3",
   "language": "python",
   "name": "python3"
  },
  "language_info": {
   "codemirror_mode": {
    "name": "ipython",
    "version": 3
   },
   "file_extension": ".py",
   "mimetype": "text/x-python",
   "name": "python",
   "nbconvert_exporter": "python",
   "pygments_lexer": "ipython3",
   "version": "3.12.0"
  }
 },
 "nbformat": 4,
 "nbformat_minor": 2
}
